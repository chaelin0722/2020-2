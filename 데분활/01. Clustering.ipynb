{
 "cells": [
  {
   "cell_type": "code",
   "execution_count": 1,
   "metadata": {},
   "outputs": [],
   "source": [
    "### 다른 클러스터링 사용해보기"
   ]
  },
  {
   "cell_type": "code",
   "execution_count": 1,
   "metadata": {},
   "outputs": [],
   "source": [
    "import pandas as pd\n",
    "import numpy as np"
   ]
  },
  {
   "cell_type": "markdown",
   "metadata": {},
   "source": [
    "# Data Check\n",
    "- Session 테이블의 TOT_PAG_VIEW_CT와 TOT_SESS_HR_V가 Nan인 경우 비정상적인 접근(ex. 접속하자마자 종료된 경우)이라고 생각하여 삭제하였음"
   ]
  },
  {
   "cell_type": "code",
   "execution_count": 3,
   "metadata": {},
   "outputs": [
    {
     "name": "stderr",
     "output_type": "stream",
     "text": [
      "C:\\Users\\User\\anaconda3.7\\envs\\chaelin_virtenv\\lib\\site-packages\\IPython\\core\\interactiveshell.py:3146: DtypeWarning: Columns (7) have mixed types.Specify dtype option on import or set low_memory=False.\n",
      "  interactivity=interactivity, compiler=compiler, result=result)\n"
     ]
    },
    {
     "name": "stdout",
     "output_type": "stream",
     "text": [
      "(2712907, 9)\n"
     ]
    }
   ],
   "source": [
    "prod = pd.read_csv(\"01.Pruduct.csv\")\n",
    "sear = pd.read_csv(\"02.Search1.csv\")\n",
    "sess = pd.read_csv(\"05.Session.csv\")\n",
    "mast = pd.read_csv(\"06.Master.csv\")\n",
    "#print(prod.shape)\n",
    "#print(sear.shape)\n",
    "print(sess.shape)\n",
    "#print(mast.shape)"
   ]
  },
  {
   "cell_type": "code",
   "execution_count": 4,
   "metadata": {},
   "outputs": [
    {
     "name": "stdout",
     "output_type": "stream",
     "text": [
      "CLNT_ID      0\n",
      "SESS_ID      0\n",
      "HITS_SEQ     0\n",
      "PD_C         0\n",
      "PD_ADD_NM    0\n",
      "PD_BRA_NM    0\n",
      "PD_BUY_AM    0\n",
      "PD_BUY_CT    0\n",
      "dtype: int64\n",
      "CLNT_ID       0\n",
      "SESS_ID       0\n",
      "KWD_NM        0\n",
      "SEARCH_CNT    0\n",
      "dtype: int64\n",
      "CLNT_ID                0\n",
      "SESS_ID                0\n",
      "SESS_SEQ               0\n",
      "SESS_DT                0\n",
      "TOT_PAG_VIEW_CT      274\n",
      "TOT_SESS_HR_V      14202\n",
      "DVC_CTG_NM             0\n",
      "ZON_NM                 0\n",
      "CITY_NM                0\n",
      "dtype: int64\n",
      "PD_C        0\n",
      "PD_NM       0\n",
      "CLAC1_NM    0\n",
      "CLAC2_NM    0\n",
      "CLAC3_NM    0\n",
      "dtype: int64\n"
     ]
    }
   ],
   "source": [
    "print(prod.isnull().sum())\n",
    "print(sear.isnull().sum())\n",
    "print(sess.isnull().sum())\n",
    "print(mast.isnull().sum())"
   ]
  },
  {
   "cell_type": "code",
   "execution_count": 5,
   "metadata": {},
   "outputs": [
    {
     "data": {
      "text/html": [
       "<div>\n",
       "<style scoped>\n",
       "    .dataframe tbody tr th:only-of-type {\n",
       "        vertical-align: middle;\n",
       "    }\n",
       "\n",
       "    .dataframe tbody tr th {\n",
       "        vertical-align: top;\n",
       "    }\n",
       "\n",
       "    .dataframe thead th {\n",
       "        text-align: right;\n",
       "    }\n",
       "</style>\n",
       "<table border=\"1\" class=\"dataframe\">\n",
       "  <thead>\n",
       "    <tr style=\"text-align: right;\">\n",
       "      <th></th>\n",
       "      <th>CLNT_ID</th>\n",
       "      <th>SESS_ID</th>\n",
       "      <th>SESS_SEQ</th>\n",
       "      <th>SESS_DT</th>\n",
       "      <th>TOT_PAG_VIEW_CT</th>\n",
       "      <th>TOT_SESS_HR_V</th>\n",
       "      <th>DVC_CTG_NM</th>\n",
       "      <th>ZON_NM</th>\n",
       "      <th>CITY_NM</th>\n",
       "    </tr>\n",
       "  </thead>\n",
       "  <tbody>\n",
       "    <tr>\n",
       "      <th>38</th>\n",
       "      <td>5878756</td>\n",
       "      <td>7465325</td>\n",
       "      <td>5</td>\n",
       "      <td>20180529</td>\n",
       "      <td>1.0</td>\n",
       "      <td>NaN</td>\n",
       "      <td>mobile</td>\n",
       "      <td>Chungcheongnam-do</td>\n",
       "      <td>Cheonan-si</td>\n",
       "    </tr>\n",
       "    <tr>\n",
       "      <th>64</th>\n",
       "      <td>6065738</td>\n",
       "      <td>9564520</td>\n",
       "      <td>26</td>\n",
       "      <td>20180424</td>\n",
       "      <td>1.0</td>\n",
       "      <td>NaN</td>\n",
       "      <td>mobile</td>\n",
       "      <td>Gyeonggi-do</td>\n",
       "      <td>Gwangmyeong-si</td>\n",
       "    </tr>\n",
       "    <tr>\n",
       "      <th>65</th>\n",
       "      <td>6065738</td>\n",
       "      <td>9564529</td>\n",
       "      <td>25</td>\n",
       "      <td>20180424</td>\n",
       "      <td>1.0</td>\n",
       "      <td>NaN</td>\n",
       "      <td>mobile</td>\n",
       "      <td>Gyeonggi-do</td>\n",
       "      <td>Gwangmyeong-si</td>\n",
       "    </tr>\n",
       "    <tr>\n",
       "      <th>246</th>\n",
       "      <td>6003295</td>\n",
       "      <td>1035552</td>\n",
       "      <td>2</td>\n",
       "      <td>20180913</td>\n",
       "      <td>1.0</td>\n",
       "      <td>NaN</td>\n",
       "      <td>desktop</td>\n",
       "      <td>Daejeon</td>\n",
       "      <td>Daejeon</td>\n",
       "    </tr>\n",
       "    <tr>\n",
       "      <th>604</th>\n",
       "      <td>5946142</td>\n",
       "      <td>9600252</td>\n",
       "      <td>4</td>\n",
       "      <td>20180423</td>\n",
       "      <td>1.0</td>\n",
       "      <td>NaN</td>\n",
       "      <td>mobile</td>\n",
       "      <td>Seoul</td>\n",
       "      <td>Seoul</td>\n",
       "    </tr>\n",
       "  </tbody>\n",
       "</table>\n",
       "</div>"
      ],
      "text/plain": [
       "     CLNT_ID  SESS_ID  SESS_SEQ   SESS_DT  TOT_PAG_VIEW_CT TOT_SESS_HR_V  \\\n",
       "38   5878756  7465325         5  20180529              1.0           NaN   \n",
       "64   6065738  9564520        26  20180424              1.0           NaN   \n",
       "65   6065738  9564529        25  20180424              1.0           NaN   \n",
       "246  6003295  1035552         2  20180913              1.0           NaN   \n",
       "604  5946142  9600252         4  20180423              1.0           NaN   \n",
       "\n",
       "    DVC_CTG_NM             ZON_NM         CITY_NM  \n",
       "38      mobile  Chungcheongnam-do      Cheonan-si  \n",
       "64      mobile        Gyeonggi-do  Gwangmyeong-si  \n",
       "65      mobile        Gyeonggi-do  Gwangmyeong-si  \n",
       "246    desktop            Daejeon         Daejeon  \n",
       "604     mobile              Seoul           Seoul  "
      ]
     },
     "execution_count": 5,
     "metadata": {},
     "output_type": "execute_result"
    }
   ],
   "source": [
    "sess[sess['TOT_SESS_HR_V'].isnull()].head()"
   ]
  },
  {
   "cell_type": "code",
   "execution_count": 6,
   "metadata": {},
   "outputs": [
    {
     "data": {
      "text/html": [
       "<div>\n",
       "<style scoped>\n",
       "    .dataframe tbody tr th:only-of-type {\n",
       "        vertical-align: middle;\n",
       "    }\n",
       "\n",
       "    .dataframe tbody tr th {\n",
       "        vertical-align: top;\n",
       "    }\n",
       "\n",
       "    .dataframe thead th {\n",
       "        text-align: right;\n",
       "    }\n",
       "</style>\n",
       "<table border=\"1\" class=\"dataframe\">\n",
       "  <thead>\n",
       "    <tr style=\"text-align: right;\">\n",
       "      <th></th>\n",
       "      <th>CLNT_ID</th>\n",
       "      <th>SESS_ID</th>\n",
       "      <th>SESS_SEQ</th>\n",
       "      <th>SESS_DT</th>\n",
       "      <th>TOT_PAG_VIEW_CT</th>\n",
       "      <th>TOT_SESS_HR_V</th>\n",
       "      <th>DVC_CTG_NM</th>\n",
       "      <th>ZON_NM</th>\n",
       "      <th>CITY_NM</th>\n",
       "    </tr>\n",
       "  </thead>\n",
       "  <tbody>\n",
       "    <tr>\n",
       "      <th>11409</th>\n",
       "      <td>5075856</td>\n",
       "      <td>6836578</td>\n",
       "      <td>19</td>\n",
       "      <td>20180608</td>\n",
       "      <td>NaN</td>\n",
       "      <td>NaN</td>\n",
       "      <td>mobile</td>\n",
       "      <td>Seoul</td>\n",
       "      <td>Seoul</td>\n",
       "    </tr>\n",
       "    <tr>\n",
       "      <th>26628</th>\n",
       "      <td>5368135</td>\n",
       "      <td>4391880</td>\n",
       "      <td>10</td>\n",
       "      <td>20180718</td>\n",
       "      <td>NaN</td>\n",
       "      <td>NaN</td>\n",
       "      <td>mobile</td>\n",
       "      <td>Chungcheongnam-do</td>\n",
       "      <td>Yeongi-gun</td>\n",
       "    </tr>\n",
       "    <tr>\n",
       "      <th>43241</th>\n",
       "      <td>5687186</td>\n",
       "      <td>852560</td>\n",
       "      <td>40</td>\n",
       "      <td>20180916</td>\n",
       "      <td>NaN</td>\n",
       "      <td>NaN</td>\n",
       "      <td>mobile</td>\n",
       "      <td>Seoul</td>\n",
       "      <td>Seoul</td>\n",
       "    </tr>\n",
       "    <tr>\n",
       "      <th>58494</th>\n",
       "      <td>6104032</td>\n",
       "      <td>1568619</td>\n",
       "      <td>78</td>\n",
       "      <td>20180904</td>\n",
       "      <td>NaN</td>\n",
       "      <td>NaN</td>\n",
       "      <td>mobile</td>\n",
       "      <td>Chungcheongnam-do</td>\n",
       "      <td>Cheonan-si</td>\n",
       "    </tr>\n",
       "    <tr>\n",
       "      <th>64700</th>\n",
       "      <td>3735745</td>\n",
       "      <td>6884635</td>\n",
       "      <td>1</td>\n",
       "      <td>20180607</td>\n",
       "      <td>NaN</td>\n",
       "      <td>NaN</td>\n",
       "      <td>desktop</td>\n",
       "      <td>Gwangju</td>\n",
       "      <td>Gwangju</td>\n",
       "    </tr>\n",
       "  </tbody>\n",
       "</table>\n",
       "</div>"
      ],
      "text/plain": [
       "       CLNT_ID  SESS_ID  SESS_SEQ   SESS_DT  TOT_PAG_VIEW_CT TOT_SESS_HR_V  \\\n",
       "11409  5075856  6836578        19  20180608              NaN           NaN   \n",
       "26628  5368135  4391880        10  20180718              NaN           NaN   \n",
       "43241  5687186   852560        40  20180916              NaN           NaN   \n",
       "58494  6104032  1568619        78  20180904              NaN           NaN   \n",
       "64700  3735745  6884635         1  20180607              NaN           NaN   \n",
       "\n",
       "      DVC_CTG_NM             ZON_NM     CITY_NM  \n",
       "11409     mobile              Seoul       Seoul  \n",
       "26628     mobile  Chungcheongnam-do  Yeongi-gun  \n",
       "43241     mobile              Seoul       Seoul  \n",
       "58494     mobile  Chungcheongnam-do  Cheonan-si  \n",
       "64700    desktop            Gwangju     Gwangju  "
      ]
     },
     "execution_count": 6,
     "metadata": {},
     "output_type": "execute_result"
    }
   ],
   "source": [
    "sess[sess['TOT_PAG_VIEW_CT'].isnull()].head()"
   ]
  },
  {
   "cell_type": "code",
   "execution_count": 7,
   "metadata": {},
   "outputs": [
    {
     "name": "stdout",
     "output_type": "stream",
     "text": [
      "CLNT_ID            0\n",
      "SESS_ID            0\n",
      "SESS_SEQ           0\n",
      "SESS_DT            0\n",
      "TOT_PAG_VIEW_CT    0\n",
      "TOT_SESS_HR_V      0\n",
      "DVC_CTG_NM         0\n",
      "ZON_NM             0\n",
      "CITY_NM            0\n",
      "dtype: int64\n",
      "(2698696, 9)\n"
     ]
    }
   ],
   "source": [
    "sess = sess.dropna()\n",
    "print(sess.isnull().sum())\n",
    "print(sess.shape)"
   ]
  },
  {
   "cell_type": "code",
   "execution_count": 8,
   "metadata": {},
   "outputs": [
    {
     "data": {
      "text/html": [
       "<div>\n",
       "<style scoped>\n",
       "    .dataframe tbody tr th:only-of-type {\n",
       "        vertical-align: middle;\n",
       "    }\n",
       "\n",
       "    .dataframe tbody tr th {\n",
       "        vertical-align: top;\n",
       "    }\n",
       "\n",
       "    .dataframe thead th {\n",
       "        text-align: right;\n",
       "    }\n",
       "</style>\n",
       "<table border=\"1\" class=\"dataframe\">\n",
       "  <thead>\n",
       "    <tr style=\"text-align: right;\">\n",
       "      <th></th>\n",
       "      <th>CLNT_ID</th>\n",
       "      <th>SESS_ID</th>\n",
       "      <th>SESS_SEQ</th>\n",
       "      <th>SESS_DT</th>\n",
       "      <th>TOT_PAG_VIEW_CT</th>\n",
       "      <th>TOT_SESS_HR_V</th>\n",
       "      <th>DVC_CTG_NM</th>\n",
       "      <th>ZON_NM</th>\n",
       "      <th>CITY_NM</th>\n",
       "    </tr>\n",
       "  </thead>\n",
       "  <tbody>\n",
       "    <tr>\n",
       "      <th>0</th>\n",
       "      <td>5873599</td>\n",
       "      <td>8641867</td>\n",
       "      <td>9</td>\n",
       "      <td>20180509</td>\n",
       "      <td>82.0</td>\n",
       "      <td>1890</td>\n",
       "      <td>mobile</td>\n",
       "      <td>Daejeon</td>\n",
       "      <td>Daejeon</td>\n",
       "    </tr>\n",
       "    <tr>\n",
       "      <th>1</th>\n",
       "      <td>5873599</td>\n",
       "      <td>6616320</td>\n",
       "      <td>21</td>\n",
       "      <td>20180611</td>\n",
       "      <td>105.0</td>\n",
       "      <td>1604</td>\n",
       "      <td>mobile</td>\n",
       "      <td>Busan</td>\n",
       "      <td>Busan</td>\n",
       "    </tr>\n",
       "    <tr>\n",
       "      <th>2</th>\n",
       "      <td>5873599</td>\n",
       "      <td>5886172</td>\n",
       "      <td>40</td>\n",
       "      <td>20180624</td>\n",
       "      <td>41.0</td>\n",
       "      <td>632</td>\n",
       "      <td>mobile</td>\n",
       "      <td>Daejeon</td>\n",
       "      <td>Daejeon</td>\n",
       "    </tr>\n",
       "    <tr>\n",
       "      <th>3</th>\n",
       "      <td>5873884</td>\n",
       "      <td>1050889</td>\n",
       "      <td>15</td>\n",
       "      <td>20180913</td>\n",
       "      <td>160.0</td>\n",
       "      <td>1035</td>\n",
       "      <td>mobile</td>\n",
       "      <td>Gyeonggi-do</td>\n",
       "      <td>Anyang</td>\n",
       "    </tr>\n",
       "    <tr>\n",
       "      <th>4</th>\n",
       "      <td>5874461</td>\n",
       "      <td>10298270</td>\n",
       "      <td>5</td>\n",
       "      <td>20180412</td>\n",
       "      <td>13.0</td>\n",
       "      <td>298</td>\n",
       "      <td>mobile</td>\n",
       "      <td>Seoul</td>\n",
       "      <td>Seoul</td>\n",
       "    </tr>\n",
       "  </tbody>\n",
       "</table>\n",
       "</div>"
      ],
      "text/plain": [
       "   CLNT_ID   SESS_ID  SESS_SEQ   SESS_DT  TOT_PAG_VIEW_CT TOT_SESS_HR_V  \\\n",
       "0  5873599   8641867         9  20180509             82.0          1890   \n",
       "1  5873599   6616320        21  20180611            105.0          1604   \n",
       "2  5873599   5886172        40  20180624             41.0           632   \n",
       "3  5873884   1050889        15  20180913            160.0          1035   \n",
       "4  5874461  10298270         5  20180412             13.0           298   \n",
       "\n",
       "  DVC_CTG_NM       ZON_NM  CITY_NM  \n",
       "0     mobile      Daejeon  Daejeon  \n",
       "1     mobile        Busan    Busan  \n",
       "2     mobile      Daejeon  Daejeon  \n",
       "3     mobile  Gyeonggi-do   Anyang  \n",
       "4     mobile        Seoul    Seoul  "
      ]
     },
     "execution_count": 8,
     "metadata": {},
     "output_type": "execute_result"
    }
   ],
   "source": [
    "sess['TOT_SESS_HR_V'] = sess['TOT_SESS_HR_V'].map(lambda x: x.replace(\",\", \"\"))\n",
    "sess.head()"
   ]
  },
  {
   "cell_type": "markdown",
   "metadata": {},
   "source": [
    "# Clustering\n",
    "- 세션 일련 번호, 총 페이지 조회 건수, 총 세션 시간 값, 기기 유형, 행동을 기준으로 클러스터링"
   ]
  },
  {
   "cell_type": "code",
   "execution_count": 9,
   "metadata": {},
   "outputs": [],
   "source": [
    "from sklearn.cluster import MiniBatchKMeans\n",
    "import matplotlib.pyplot as plt\n",
    "import seaborn as sns\n",
    "from sklearn.metrics import silhouette_score\n",
    "%matplotlib inline"
   ]
  },
  {
   "cell_type": "code",
   "execution_count": 10,
   "metadata": {},
   "outputs": [
    {
     "name": "stderr",
     "output_type": "stream",
     "text": [
      "C:\\Users\\User\\anaconda3.7\\envs\\chaelin_virtenv\\lib\\site-packages\\ipykernel_launcher.py:2: SettingWithCopyWarning: \n",
      "A value is trying to be set on a copy of a slice from a DataFrame.\n",
      "Try using .loc[row_indexer,col_indexer] = value instead\n",
      "\n",
      "See the caveats in the documentation: https://pandas.pydata.org/pandas-docs/stable/user_guide/indexing.html#returning-a-view-versus-a-copy\n",
      "  \n",
      "C:\\Users\\User\\anaconda3.7\\envs\\chaelin_virtenv\\lib\\site-packages\\ipykernel_launcher.py:5: SettingWithCopyWarning: \n",
      "A value is trying to be set on a copy of a slice from a DataFrame.\n",
      "Try using .loc[row_indexer,col_indexer] = value instead\n",
      "\n",
      "See the caveats in the documentation: https://pandas.pydata.org/pandas-docs/stable/user_guide/indexing.html#returning-a-view-versus-a-copy\n",
      "  \"\"\"\n"
     ]
    },
    {
     "name": "stdout",
     "output_type": "stream",
     "text": [
      "['buy' 'search']\n"
     ]
    }
   ],
   "source": [
    "act_buy = prod[['SESS_ID']]\n",
    "act_buy['ACTION'] = 'buy'\n",
    "\n",
    "act_sear = sear[['SESS_ID']]\n",
    "act_sear['ACTION'] = 'search'\n",
    "\n",
    "act = pd.concat([act_buy, act_sear], axis=0, sort=False)\n",
    "print(act['ACTION'].unique())\n",
    "act = act.drop_duplicates()\n",
    "act = act.groupby('SESS_ID').agg(lambda x: x.tolist())"
   ]
  },
  {
   "cell_type": "code",
   "execution_count": 11,
   "metadata": {},
   "outputs": [
    {
     "name": "stdout",
     "output_type": "stream",
     "text": [
      "['buy' 'buy,search']\n"
     ]
    }
   ],
   "source": [
    "#act['ACTION'].unique\n",
    "\n",
    "act['ACTION'] = act['ACTION'].map(lambda x: \"\".join(x) if len(x)<2 else \",\".join(x))\n",
    "print(act['ACTION'].unique())         #.unique 는 유일한 값 찾는것.. "
   ]
  },
  {
   "cell_type": "code",
   "execution_count": 12,
   "metadata": {},
   "outputs": [
    {
     "name": "stdout",
     "output_type": "stream",
     "text": [
      "              ACTION\n",
      "SESS_ID             \n",
      "10977908         buy\n",
      "10977924         buy\n",
      "10977932  buy,search\n",
      "10977936  buy,search\n",
      "10977941         buy\n"
     ]
    },
    {
     "data": {
      "text/plain": [
       "(2698696, 10)"
      ]
     },
     "execution_count": 12,
     "metadata": {},
     "output_type": "execute_result"
    }
   ],
   "source": [
    "print(act.tail())\n",
    "df = pd.merge(sess, act, left_on='SESS_ID', right_on='SESS_ID', how='left')\n",
    "df.shape"
   ]
  },
  {
   "cell_type": "code",
   "execution_count": 13,
   "metadata": {},
   "outputs": [
    {
     "data": {
      "text/html": [
       "<div>\n",
       "<style scoped>\n",
       "    .dataframe tbody tr th:only-of-type {\n",
       "        vertical-align: middle;\n",
       "    }\n",
       "\n",
       "    .dataframe tbody tr th {\n",
       "        vertical-align: top;\n",
       "    }\n",
       "\n",
       "    .dataframe thead th {\n",
       "        text-align: right;\n",
       "    }\n",
       "</style>\n",
       "<table border=\"1\" class=\"dataframe\">\n",
       "  <thead>\n",
       "    <tr style=\"text-align: right;\">\n",
       "      <th></th>\n",
       "      <th>CLNT_ID</th>\n",
       "      <th>SESS_ID</th>\n",
       "      <th>SESS_SEQ</th>\n",
       "      <th>TOT_PAG_VIEW_CT</th>\n",
       "      <th>TOT_SESS_HR_V</th>\n",
       "      <th>DVC_CTG_NM</th>\n",
       "      <th>ACTION</th>\n",
       "    </tr>\n",
       "  </thead>\n",
       "  <tbody>\n",
       "    <tr>\n",
       "      <th>0</th>\n",
       "      <td>5873599</td>\n",
       "      <td>8641867</td>\n",
       "      <td>9</td>\n",
       "      <td>82.0</td>\n",
       "      <td>1890</td>\n",
       "      <td>mobile</td>\n",
       "      <td>buy,search</td>\n",
       "    </tr>\n",
       "    <tr>\n",
       "      <th>1</th>\n",
       "      <td>5873599</td>\n",
       "      <td>6616320</td>\n",
       "      <td>21</td>\n",
       "      <td>105.0</td>\n",
       "      <td>1604</td>\n",
       "      <td>mobile</td>\n",
       "      <td>buy,search</td>\n",
       "    </tr>\n",
       "    <tr>\n",
       "      <th>2</th>\n",
       "      <td>5873599</td>\n",
       "      <td>5886172</td>\n",
       "      <td>40</td>\n",
       "      <td>41.0</td>\n",
       "      <td>632</td>\n",
       "      <td>mobile</td>\n",
       "      <td>buy,search</td>\n",
       "    </tr>\n",
       "    <tr>\n",
       "      <th>3</th>\n",
       "      <td>5873884</td>\n",
       "      <td>1050889</td>\n",
       "      <td>15</td>\n",
       "      <td>160.0</td>\n",
       "      <td>1035</td>\n",
       "      <td>mobile</td>\n",
       "      <td>buy,search</td>\n",
       "    </tr>\n",
       "    <tr>\n",
       "      <th>4</th>\n",
       "      <td>5874461</td>\n",
       "      <td>10298270</td>\n",
       "      <td>5</td>\n",
       "      <td>13.0</td>\n",
       "      <td>298</td>\n",
       "      <td>mobile</td>\n",
       "      <td>buy</td>\n",
       "    </tr>\n",
       "  </tbody>\n",
       "</table>\n",
       "</div>"
      ],
      "text/plain": [
       "   CLNT_ID   SESS_ID  SESS_SEQ  TOT_PAG_VIEW_CT TOT_SESS_HR_V DVC_CTG_NM  \\\n",
       "0  5873599   8641867         9             82.0          1890     mobile   \n",
       "1  5873599   6616320        21            105.0          1604     mobile   \n",
       "2  5873599   5886172        40             41.0           632     mobile   \n",
       "3  5873884   1050889        15            160.0          1035     mobile   \n",
       "4  5874461  10298270         5             13.0           298     mobile   \n",
       "\n",
       "       ACTION  \n",
       "0  buy,search  \n",
       "1  buy,search  \n",
       "2  buy,search  \n",
       "3  buy,search  \n",
       "4         buy  "
      ]
     },
     "execution_count": 13,
     "metadata": {},
     "output_type": "execute_result"
    }
   ],
   "source": [
    "df = df[['CLNT_ID', 'SESS_ID','SESS_SEQ','TOT_PAG_VIEW_CT','TOT_SESS_HR_V','DVC_CTG_NM','ACTION']]\n",
    "df.head()"
   ]
  },
  {
   "cell_type": "code",
   "execution_count": 15,
   "metadata": {},
   "outputs": [
    {
     "name": "stdout",
     "output_type": "stream",
     "text": [
      "{0, 1, 2}\n",
      "{0, 1}\n"
     ]
    },
    {
     "data": {
      "text/html": [
       "<div>\n",
       "<style scoped>\n",
       "    .dataframe tbody tr th:only-of-type {\n",
       "        vertical-align: middle;\n",
       "    }\n",
       "\n",
       "    .dataframe tbody tr th {\n",
       "        vertical-align: top;\n",
       "    }\n",
       "\n",
       "    .dataframe thead th {\n",
       "        text-align: right;\n",
       "    }\n",
       "</style>\n",
       "<table border=\"1\" class=\"dataframe\">\n",
       "  <thead>\n",
       "    <tr style=\"text-align: right;\">\n",
       "      <th></th>\n",
       "      <th>CLNT_ID</th>\n",
       "      <th>SESS_ID</th>\n",
       "      <th>SESS_SEQ</th>\n",
       "      <th>TOT_PAG_VIEW_CT</th>\n",
       "      <th>TOT_SESS_HR_V</th>\n",
       "      <th>DVC_CTG_NM</th>\n",
       "      <th>ACTION</th>\n",
       "    </tr>\n",
       "  </thead>\n",
       "  <tbody>\n",
       "    <tr>\n",
       "      <th>0</th>\n",
       "      <td>5873599</td>\n",
       "      <td>8641867</td>\n",
       "      <td>9</td>\n",
       "      <td>82.0</td>\n",
       "      <td>1890</td>\n",
       "      <td>1</td>\n",
       "      <td>1</td>\n",
       "    </tr>\n",
       "    <tr>\n",
       "      <th>1</th>\n",
       "      <td>5873599</td>\n",
       "      <td>6616320</td>\n",
       "      <td>21</td>\n",
       "      <td>105.0</td>\n",
       "      <td>1604</td>\n",
       "      <td>1</td>\n",
       "      <td>1</td>\n",
       "    </tr>\n",
       "    <tr>\n",
       "      <th>2</th>\n",
       "      <td>5873599</td>\n",
       "      <td>5886172</td>\n",
       "      <td>40</td>\n",
       "      <td>41.0</td>\n",
       "      <td>632</td>\n",
       "      <td>1</td>\n",
       "      <td>1</td>\n",
       "    </tr>\n",
       "    <tr>\n",
       "      <th>3</th>\n",
       "      <td>5873884</td>\n",
       "      <td>1050889</td>\n",
       "      <td>15</td>\n",
       "      <td>160.0</td>\n",
       "      <td>1035</td>\n",
       "      <td>1</td>\n",
       "      <td>1</td>\n",
       "    </tr>\n",
       "    <tr>\n",
       "      <th>4</th>\n",
       "      <td>5874461</td>\n",
       "      <td>10298270</td>\n",
       "      <td>5</td>\n",
       "      <td>13.0</td>\n",
       "      <td>298</td>\n",
       "      <td>1</td>\n",
       "      <td>0</td>\n",
       "    </tr>\n",
       "  </tbody>\n",
       "</table>\n",
       "</div>"
      ],
      "text/plain": [
       "   CLNT_ID   SESS_ID  SESS_SEQ  TOT_PAG_VIEW_CT TOT_SESS_HR_V  DVC_CTG_NM  \\\n",
       "0  5873599   8641867         9             82.0          1890           1   \n",
       "1  5873599   6616320        21            105.0          1604           1   \n",
       "2  5873599   5886172        40             41.0           632           1   \n",
       "3  5873884   1050889        15            160.0          1035           1   \n",
       "4  5874461  10298270         5             13.0           298           1   \n",
       "\n",
       "   ACTION  \n",
       "0       1  \n",
       "1       1  \n",
       "2       1  \n",
       "3       1  \n",
       "4       0  "
      ]
     },
     "execution_count": 15,
     "metadata": {},
     "output_type": "execute_result"
    }
   ],
   "source": [
    "from sklearn.preprocessing import LabelEncoder\n",
    "\n",
    "encode_DVC = LabelEncoder()\n",
    "encode_DVC.fit(df['DVC_CTG_NM'])\n",
    "\n",
    "df['DVC_CTG_NM'] = encode_DVC.transform(df['DVC_CTG_NM'])\n",
    "\n",
    "encode_ACT = LabelEncoder()\n",
    "encode_ACT.fit(df['ACTION'])\n",
    "\n",
    "df['ACTION'] = encode_ACT.transform(df['ACTION'])\n",
    "\n",
    "print(set(df['DVC_CTG_NM']))\n",
    "print(set(df['ACTION']))\n",
    "df.head()"
   ]
  },
  {
   "cell_type": "markdown",
   "metadata": {},
   "source": [
    "### 최적의 클러스터 갯수"
   ]
  },
  {
   "cell_type": "code",
   "execution_count": null,
   "metadata": {},
   "outputs": [
    {
     "name": "stdout",
     "output_type": "stream",
     "text": [
      "For n_clusters = 3\n"
     ]
    }
   ],
   "source": [
    "cols = ['SESS_SEQ','TOT_PAG_VIEW_CT','TOT_SESS_HR_V','DVC_CTG_NM','ACTION']\n",
    "for num in range(3,7):\n",
    "    print(\"For n_clusters = {}\".format(num))\n",
    "    clusterer = MiniBatchKMeans(n_clusters=num)\n",
    "    preds = clusterer.fit_predict(df[cols])\n",
    "    score = silhouette_score(df[cols], preds)\n",
    "    print(\"silhouette score is {}\".format(score))"
   ]
  },
  {
   "cell_type": "code",
   "execution_count": null,
   "metadata": {},
   "outputs": [],
   "source": []
  },
  {
   "cell_type": "code",
   "execution_count": null,
   "metadata": {},
   "outputs": [],
   "source": []
  },
  {
   "cell_type": "markdown",
   "metadata": {},
   "source": []
  },
  {
   "cell_type": "code",
   "execution_count": null,
   "metadata": {},
   "outputs": [],
   "source": []
  },
  {
   "cell_type": "code",
   "execution_count": null,
   "metadata": {},
   "outputs": [],
   "source": []
  },
  {
   "cell_type": "code",
   "execution_count": 20,
   "metadata": {},
   "outputs": [],
   "source": [
    "y_pred_outliers = clf.predict(data)\n",
    "\n",
    "out = pd.DataFrame(y_pred_outliers)\n",
    "out = out.rename(columns={0:\"out\"})\n",
    "out_data = pd.concat([data, out],1)"
   ]
  },
  {
   "cell_type": "code",
   "execution_count": 26,
   "metadata": {},
   "outputs": [
    {
     "name": "stdout",
     "output_type": "stream",
     "text": [
      "(6423888, 9)\n",
      "(4064969, 8)\n"
     ]
    }
   ],
   "source": [
    "print(out_data.shape)\n",
    "print(data.shape)  #  와이라노와이라노~"
   ]
  },
  {
   "cell_type": "code",
   "execution_count": null,
   "metadata": {},
   "outputs": [],
   "source": [
    "이게 원래 코드!! cl_df 데이터를 갖고 최적의 클러스터 갯수 구하는 중\n",
    "#cols = ['SESS_SEQ','TOT_PAG_VIEW_CT','TOT_SESS_HR_V','DVC_CTG_NM','ACTION']\n",
    "#for num in range(3,7):\n",
    "#    print(\"For n_clusters = {}\".format(num))\n",
    "#    clusterer = MiniBatchKMeans(n_clusters=num)\n",
    "#    preds = clusterer.fit_predict(cl_df[cols])\n",
    "#    score = silhouette_score(cl_df[cols], preds)\n",
    "#    print(\"silhouette score is {}\".format(score))"
   ]
  },
  {
   "cell_type": "code",
   "execution_count": null,
   "metadata": {},
   "outputs": [],
   "source": [
    "#cl_df['CLUSTER'] = preds"
   ]
  },
  {
   "cell_type": "code",
   "execution_count": null,
   "metadata": {},
   "outputs": [],
   "source": [
    "#sns.pairplot(cl_df, hue=\"CLUSTER\", diag_kws={'bw': 0.2})\n",
    "#plt.show()"
   ]
  },
  {
   "cell_type": "code",
   "execution_count": null,
   "metadata": {},
   "outputs": [],
   "source": [
    "#item_set = cl_df[['CLNT_ID', 'CLUSTER']].groupby('CLNT_ID').agg(lambda x:x.tolist())"
   ]
  },
  {
   "cell_type": "markdown",
   "metadata": {},
   "source": [
    "# Frequent Pattern Mining"
   ]
  },
  {
   "cell_type": "code",
   "execution_count": null,
   "metadata": {},
   "outputs": [],
   "source": [
    "import pandas as pd\n",
    "from mlxtend.preprocessing import TransactionEncoder\n",
    "from mlxtend.frequent_patterns import apriori, association_rules"
   ]
  },
  {
   "cell_type": "code",
   "execution_count": null,
   "metadata": {},
   "outputs": [],
   "source": [
    "#frequent_itemsets = apriori(itemset, min_support=0.5, use_colnames=True)"
   ]
  },
  {
   "cell_type": "code",
   "execution_count": null,
   "metadata": {},
   "outputs": [],
   "source": [
    "#association_rules(frequent_itemsets, metric=\"lift\", min_threshold=1)"
   ]
  },
  {
   "cell_type": "markdown",
   "metadata": {},
   "source": [
    "# Itemset For Each Pattern"
   ]
  },
  {
   "cell_type": "code",
   "execution_count": null,
   "metadata": {},
   "outputs": [],
   "source": []
  },
  {
   "cell_type": "code",
   "execution_count": null,
   "metadata": {},
   "outputs": [],
   "source": []
  }
 ],
 "metadata": {
  "kernelspec": {
   "display_name": "Python 3",
   "language": "python",
   "name": "python3"
  },
  "language_info": {
   "codemirror_mode": {
    "name": "ipython",
    "version": 3
   },
   "file_extension": ".py",
   "mimetype": "text/x-python",
   "name": "python",
   "nbconvert_exporter": "python",
   "pygments_lexer": "ipython3",
   "version": "3.7.7"
  }
 },
 "nbformat": 4,
 "nbformat_minor": 4
}
