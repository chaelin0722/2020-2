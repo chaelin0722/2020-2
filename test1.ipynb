{
 "cells": [
  {
   "cell_type": "code",
   "execution_count": 2,
   "metadata": {},
   "outputs": [
    {
     "name": "stdout",
     "output_type": "stream",
     "text": [
      "   CLNT_ID   SESS_ID  SESS_SEQ   SESS_DT DVC_CTG_NM       ZON_NM  CITY_NM\n",
      "0  5873599   8641867         9  20180509     mobile      Daejeon  Daejeon\n",
      "1  5873599   6616320        21  20180611     mobile        Busan    Busan\n",
      "2  5873599   5886172        40  20180624     mobile      Daejeon  Daejeon\n",
      "3  5873884   1050889        15  20180913     mobile  Gyeonggi-do   Anyang\n",
      "4  5874461  10298270         5  20180412     mobile        Seoul    Seoul\n"
     ]
    }
   ],
   "source": [
    "import pandas as pd\n",
    "ses = pd.read_csv(\"05.Session.csv\", thousands = ',')\n",
    "#print(ses.head())\n",
    "#결측값이 있는 열 제거\n",
    "drop = ses.dropna(axis=1)\n",
    "print(drop.head())\n",
    "new_ses1 = ses['TOT_PAG_VIEW_CT'].fillna(1)\n",
    "new_ses2 = ses['TOT_SESS_HR_V'].fillna(1)"
   ]
  },
  {
   "cell_type": "code",
   "execution_count": 32,
   "metadata": {},
   "outputs": [
    {
     "name": "stdout",
     "output_type": "stream",
     "text": [
      "   CLNT_ID   SESS_ID  SESS_SEQ   SESS_DT DVC_CTG_NM       ZON_NM  CITY_NM  \\\n",
      "0  5873599   8641867         9  20180509     mobile      Daejeon  Daejeon   \n",
      "1  5873599   6616320        21  20180611     mobile        Busan    Busan   \n",
      "2  5873599   5886172        40  20180624     mobile      Daejeon  Daejeon   \n",
      "3  5873884   1050889        15  20180913     mobile  Gyeonggi-do   Anyang   \n",
      "4  5874461  10298270         5  20180412     mobile        Seoul    Seoul   \n",
      "\n",
      "   TOT_PAG_VIEW_CT  TOT_SESS_HR_V  \n",
      "0             82.0         1890.0  \n",
      "1            105.0         1604.0  \n",
      "2             41.0          632.0  \n",
      "3            160.0         1035.0  \n",
      "4             13.0          298.0  \n"
     ]
    }
   ],
   "source": [
    "sess = pd.concat([drop, new_ses1], axis=1)\n",
    "sess = pd.concat([sess, new_ses2], axis=1)\n",
    "\n",
    "print(sess.head())"
   ]
  },
  {
   "cell_type": "code",
   "execution_count": 33,
   "metadata": {},
   "outputs": [
    {
     "name": "stdout",
     "output_type": "stream",
     "text": [
      "0\n",
      "0\n"
     ]
    }
   ],
   "source": [
    "print(sess['TOT_PAG_VIEW_CT'].isnull().values.sum())\n",
    "print(sess['TOT_SESS_HR_V'].isnull().values.sum())\n",
    "sess = sess.drop(columns='CLNT_ID')\n",
    "sess = sess.drop(columns='SESS_DT')\n",
    "sess = sess.drop(columns='DVC_CTG_NM')\n",
    "sess = sess.drop(columns='ZON_NM')\n",
    "sess = sess.drop(columns='CITY_NM')\n",
    "sess = sess.drop(columns='SESS_ID')\n",
    "sess = sess.drop(columns='SESS_SEQ')"
   ]
  },
  {
   "cell_type": "code",
   "execution_count": 34,
   "metadata": {},
   "outputs": [
    {
     "name": "stdout",
     "output_type": "stream",
     "text": [
      "       TOT_PAG_VIEW_CT  TOT_SESS_HR_V\n",
      "count     2.712907e+06   2.712907e+06\n",
      "mean      8.515918e+01   1.443990e+03\n",
      "std       8.750844e+01   1.505433e+03\n",
      "min       1.000000e+00   1.000000e+00\n",
      "25%       2.900000e+01   4.080000e+02\n",
      "50%       5.500000e+01   9.440000e+02\n",
      "75%       1.080000e+02   1.970000e+03\n",
      "max       4.990000e+02   3.932900e+04\n"
     ]
    }
   ],
   "source": [
    "print(sess.describe())"
   ]
  },
  {
   "cell_type": "code",
   "execution_count": 68,
   "metadata": {},
   "outputs": [],
   "source": [
    "import matplotlib.pyplot as plt\n",
    "import seaborn as sns\n",
    "import numpy as np\n",
    "from sklearn import metrics\n",
    "from sklearn import datasets\n",
    "from sklearn.cluster import KMeans"
   ]
  },
  {
   "cell_type": "markdown",
   "metadata": {},
   "source": [
    "## K-means 해보기"
   ]
  },
  {
   "cell_type": "code",
   "execution_count": 62,
   "metadata": {},
   "outputs": [],
   "source": [
    "k=5\n",
    "kmeans = KMeans(n_clusters= k)\n",
    "y_pred = kmeans.fit_predict(sess)"
   ]
  },
  {
   "cell_type": "code",
   "execution_count": 65,
   "metadata": {},
   "outputs": [
    {
     "name": "stdout",
     "output_type": "stream",
     "text": [
      "[4 4 0 ... 2 4 0]\n"
     ]
    },
    {
     "data": {
      "text/plain": [
       "True"
      ]
     },
     "execution_count": 65,
     "metadata": {},
     "output_type": "execute_result"
    }
   ],
   "source": [
    "print(y_pred)\n",
    "y_pred is kmeans.labels_  # just for check"
   ]
  },
  {
   "cell_type": "code",
   "execution_count": 66,
   "metadata": {},
   "outputs": [
    {
     "data": {
      "text/plain": [
       "array([[  40.20239411,  445.54448564],\n",
       "       [ 227.79439634, 4779.51212365],\n",
       "       [ 150.26869782, 2820.49032253],\n",
       "       [ 293.56890963, 8279.45897837],\n",
       "       [  91.56651206, 1478.84736503]])"
      ]
     },
     "execution_count": 66,
     "metadata": {},
     "output_type": "execute_result"
    }
   ],
   "source": [
    "kmeans.cluster_centers_"
   ]
  },
  {
   "cell_type": "code",
   "execution_count": 81,
   "metadata": {},
   "outputs": [
    {
     "name": "stdout",
     "output_type": "stream",
     "text": [
      "[0 1 2 3 4]\n"
     ]
    },
    {
     "data": {
      "image/png": "[encoded data removed]",
      "text/plain": [
       "<Figure size 432x288 with 1 Axes>"
      ]
     },
     "metadata": {
      "needs_background": "light"
     },
     "output_type": "display_data"
    }
   ],
   "source": [
    "from scipy.spatial import Voronoi, voronoi_plot_2d\n",
    "\n",
    "# kmeans 해서 나온 center 에다가 보로노이 적용해보기 \n",
    "sess_new = np.array(kmeans.cluster_centers_)\n",
    "print(kmeans.predict(sess_new))\n",
    "\n",
    "vor = Voronoi(sess_new)\n",
    "voronoi_plot_2d(vor)\n",
    "plt.show()"
   ]
  },
  {
   "cell_type": "markdown",
   "metadata": {},
   "source": [
    "## 미니배치 k-평균"
   ]
  },
  {
   "cell_type": "code",
   "execution_count": 82,
   "metadata": {},
   "outputs": [
    {
     "data": {
      "text/plain": [
       "MiniBatchKMeans(batch_size=50, max_iter=300, n_clusters=5, tol=0.004)"
      ]
     },
     "execution_count": 82,
     "metadata": {},
     "output_type": "execute_result"
    }
   ],
   "source": [
    "\n",
    "from sklearn.cluster import MiniBatchKMeans\n",
    "clus = MiniBatchKMeans(n_clusters=5, batch_size=50, tol=0.004, max_iter=300)\n",
    "clus.fit(sess)"
   ]
  },
  {
   "cell_type": "markdown",
   "metadata": {},
   "source": [
    "### 최적의 클러스터 찾기 -elbow 함수이용"
   ]
  },
  {
   "cell_type": "code",
   "execution_count": null,
   "metadata": {},
   "outputs": [],
   "source": [
    "ks = range(1,100)\n",
    "inertias = []\n",
    "\n",
    "for k in ks:\n",
    "    model = KMeans(n_clusters=k)\n",
    "    model.fit(sess)\n",
    "    inertias.append(model.inertia_)\n",
    "    \n",
    "plt.plot(ks, inertias, '-o')\n",
    "plt.xlabel('number of clusters k')\n",
    "plt.ylabel('inertia')\n",
    "plt.xticks(ks)\n",
    "plt.show()"
   ]
  },
  {
   "cell_type": "markdown",
   "metadata": {},
   "source": [
    "최적의 클러스터 찾기"
   ]
  },
  {
   "cell_type": "code",
   "execution_count": 49,
   "metadata": {},
   "outputs": [],
   "source": [
    "\n",
    "\n",
    "#n_clusters = [2,3,4,5,6,7,8,9]\n",
    "\n",
    "#for k in n_clusters:\n",
    "#    kmeans = KMeans(n_clusters=k, random_state=42).fit(sess)\n",
    "#    cluster_labels = kmeans.predict(sess)\n",
    "#    S = metrics.silhouette_score(sess, cluster_labels)\n",
    "#    print(\"n_Clusters = {:d}, silhouette score {:1f}\".format(k,S))\n",
    "\n",
    "model = KMeans(n_clusters=3, algorithm='auto')\n",
    "model.fit(sess)\n",
    "predict = pd.DataFrame(model.predict(sess))\n",
    "predict.columns=['predict']\n",
    "\n",
    "out = pd.concat([sess,predict],axis=1)"
   ]
  },
  {
   "cell_type": "code",
   "execution_count": 50,
   "metadata": {},
   "outputs": [
    {
     "data": {
      "image/png": "[encoded data removed]",
      "text/plain": [
       "<Figure size 432x288 with 1 Axes>"
      ]
     },
     "metadata": {
      "needs_background": "light"
     },
     "output_type": "display_data"
    }
   ],
   "source": [
    "\n",
    "plt.scatter(out['TOT_PAG_VIEW_CT'],out['TOT_SESS_HR_V'], alpha=0.5)\n",
    "centers = pd.DataFrame(model.cluster_centers_, columns=['TOT_PAG_VIEW_CT','TOT_SESS_HR_V'])\n",
    "center_x = centers['TOT_PAG_VIEW_CT']\n",
    "center_y = centers['TOT_SESS_HR_V']\n",
    "plt.scatter(center_x, center_y, s=50, marker='D', c='r')\n",
    "plt.show()"
   ]
  },
  {
   "cell_type": "code",
   "execution_count": null,
   "metadata": {},
   "outputs": [],
   "source": [
    "#inertia value\n",
    "ks = range(1,10)\n",
    "inertias = []\n",
    "\n",
    "for k in ks:\n",
    "    model = KMeans(n_clusters=k)\n",
    "    model.fit(sess)\n",
    "    inertias.append(model.inertia_)\n",
    "    \n",
    "plt.plot(ks, inertias, '-o')\n",
    "plt.xlabel('number of clusters k')\n",
    "plt.ylabel('inertia')\n",
    "plt.xticks(ks)\n",
    "plt.show()"
   ]
  },
  {
   "cell_type": "code",
   "execution_count": 54,
   "metadata": {},
   "outputs": [
    {
     "data": {
      "text/plain": [
       "MiniBatchKMeans(batch_size=50, max_iter=300, n_clusters=5, tol=0.004)"
      ]
     },
     "execution_count": 54,
     "metadata": {},
     "output_type": "execute_result"
    }
   ],
   "source": [
    "\n",
    "from sklearn.cluster import MiniBatchKMeans\n",
    "clus = MiniBatchKMeans(n_clusters=5, batch_size=50, tol=0.004, max_iter=300)\n",
    "clus.fit(sess)\n",
    "#sns.lmplot(x=\"TOT_PAG_VIEW_CT\", y= \"TOT_SESS_HR_V\",hue=clus.labels_, data=sess, fit_reg=False)"
   ]
  },
  {
   "cell_type": "code",
   "execution_count": 59,
   "metadata": {},
   "outputs": [
    {
     "ename": "TypeError",
     "evalue": "'list' object cannot be interpreted as an integer",
     "output_type": "error",
     "traceback": [
      "\u001b[1;31m---------------------------------------------------------------------------\u001b[0m",
      "\u001b[1;31mTypeError\u001b[0m                                 Traceback (most recent call last)",
      "\u001b[1;32m<ipython-input-59-6deb11afc628>\u001b[0m in \u001b[0;36m<module>\u001b[1;34m\u001b[0m\n\u001b[1;32m----> 1\u001b[1;33m \u001b[1;32mfor\u001b[0m \u001b[0mk\u001b[0m\u001b[1;33m,\u001b[0m \u001b[0mcol\u001b[0m \u001b[1;32min\u001b[0m \u001b[0mzip\u001b[0m\u001b[1;33m(\u001b[0m\u001b[0mrange\u001b[0m\u001b[1;33m(\u001b[0m\u001b[0mn_clusters\u001b[0m\u001b[1;33m)\u001b[0m\u001b[1;33m,\u001b[0m \u001b[0mcolors\u001b[0m\u001b[1;33m)\u001b[0m\u001b[1;33m:\u001b[0m\u001b[1;33m\u001b[0m\u001b[1;33m\u001b[0m\u001b[0m\n\u001b[0m\u001b[0;32m      2\u001b[0m     \u001b[0mmy_members\u001b[0m \u001b[1;33m=\u001b[0m \u001b[0mmbk_means_labels\u001b[0m \u001b[1;33m==\u001b[0m \u001b[0mk\u001b[0m\u001b[1;33m\u001b[0m\u001b[1;33m\u001b[0m\u001b[0m\n\u001b[0;32m      3\u001b[0m     \u001b[0mcluster_center\u001b[0m \u001b[1;33m=\u001b[0m \u001b[0mmbk_means_cluster_centers\u001b[0m\u001b[1;33m[\u001b[0m\u001b[0mk\u001b[0m\u001b[1;33m]\u001b[0m\u001b[1;33m\u001b[0m\u001b[1;33m\u001b[0m\u001b[0m\n\u001b[0;32m      4\u001b[0m     ax.plot(X[my_members, 0], X[my_members, 1], 'w',\n\u001b[0;32m      5\u001b[0m             markerfacecolor=col, marker='.')\n",
      "\u001b[1;31mTypeError\u001b[0m: 'list' object cannot be interpreted as an integer"
     ]
    }
   ],
   "source": [
    "for k, col in zip(range(n_clusters), colors):\n",
    "    my_members = mbk_means_labels == k\n",
    "    cluster_center = mbk_means_cluster_centers[k]\n",
    "    ax.plot(X[my_members, 0], X[my_members, 1], 'w',\n",
    "            markerfacecolor=col, marker='.')\n",
    "    ax.plot(cluster_center[0], cluster_center[1], 'o', markerfacecolor=col,\n",
    "            markeredgecolor='k', markersize=6)\n",
    "ax.set_title('MiniBatchKMeans')\n",
    "ax.set_xticks(())\n",
    "ax.set_yticks(())\n",
    "plt.show()"
   ]
  },
  {
   "cell_type": "code",
   "execution_count": null,
   "metadata": {},
   "outputs": [],
   "source": []
  }
 ],
 "metadata": {
  "kernelspec": {
   "display_name": "Python 3",
   "language": "python",
   "name": "python3"
  },
  "language_info": {
   "codemirror_mode": {
    "name": "ipython",
    "version": 3
   },
   "file_extension": ".py",
   "mimetype": "text/x-python",
   "name": "python",
   "nbconvert_exporter": "python",
   "pygments_lexer": "ipython3",
   "version": "3.7.7"
  }
 },
 "nbformat": 4,
 "nbformat_minor": 4
}
